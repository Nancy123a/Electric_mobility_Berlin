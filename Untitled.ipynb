{
 "cells": [
  {
   "cell_type": "code",
   "execution_count": null,
   "id": "eb3eef7b-d965-4c19-a027-9233d5e06516",
   "metadata": {},
   "outputs": [],
   "source": [
    "import pytest\n",
    "from src.charging.domain.services.charging_station_service import ChargingStationService\n",
    "\n",
    "class TestChargingStationService:\n",
    "    def setup_method(self):\n",
    "        self.service=ChargingStationService()\n",
    "    def test_find_stations_happy_path(self):\n",
    "        stations=self.station.find_stations_by_postal_code(\"10999\")\n",
    "        assert len(stations)>0\n",
    "        assert all(s.postal_code==\"10999\" for s in stations)\n",
    "    def test_find_stations_invalid_postal_code(self):"
   ]
  },
  {
   "cell_type": "code",
   "execution_count": null,
   "id": "a2b45b4e-5151-401e-b8fd-21a60ccdd624",
   "metadata": {},
   "outputs": [],
   "source": [
    "@dataclass(frozen=True)\n",
    "class PostalCode:\n",
    "    value: str\n",
    "    def _postal_init(self):\n",
    "        if not self.is_valid():\n",
    "            raise ValueError(f\"Invalid postal code {self.value}\")\n",
    "    def is_valid(self): -> bool        "
   ]
  },
  {
   "cell_type": "code",
   "execution_count": null,
   "id": "05b6aac1-4592-4934-b59c-b870784032a8",
   "metadata": {},
   "outputs": [],
   "source": [
    "class ChargingStationRepository:\n",
    "    def find_by_postal_code(self,postal_code:PostalCode) -> List(ChargingStations\n",
    "    pass"
   ]
  },
  {
   "cell_type": "code",
   "execution_count": null,
   "id": "667701ad-94b7-455e-828a-390083e925ff",
   "metadata": {},
   "outputs": [],
   "source": [
    "class ChargingStationService:\n",
    "    def find_station_by_postal_code(self,postal_code:str) -> List(ChargingStations\n",
    "        code=PostalCode(postal_code)\n",
    "        return self.repository.find_by_postal_code(code)                           "
   ]
  }
 ],
 "metadata": {
  "kernelspec": {
   "display_name": "Python 3 (ipykernel)",
   "language": "python",
   "name": "python3"
  },
  "language_info": {
   "codemirror_mode": {
    "name": "ipython",
    "version": 3
   },
   "file_extension": ".py",
   "mimetype": "text/x-python",
   "name": "python",
   "nbconvert_exporter": "python",
   "pygments_lexer": "ipython3",
   "version": "3.12.4"
  }
 },
 "nbformat": 4,
 "nbformat_minor": 5
}
