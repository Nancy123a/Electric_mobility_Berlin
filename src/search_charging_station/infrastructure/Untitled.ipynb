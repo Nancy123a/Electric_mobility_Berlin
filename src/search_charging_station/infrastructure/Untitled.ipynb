{
 "cells": [
  {
   "cell_type": "code",
   "execution_count": 2,
   "id": "51d16664-52d5-49d7-80c7-0424813be559",
   "metadata": {},
   "outputs": [
    {
     "name": "stdout",
     "output_type": "stream",
     "text": [
      "sqlite:////Users/nancyboukamel/Desktop/BHT/software_engineering/berlingeoheatmap_project1/src/search_charging_station/infrastructure/tables/berlincharginghub.db\n"
     ]
    }
   ],
   "source": [
    "import os\n",
    "project_dir = os.path.abspath(os.path.join(os.getcwd(), 'tables'))\n",
    "DATABASE_URL = f\"sqlite:///{project_dir}/berlincharginghub.db\"\n",
    "print(DATABASE_URL)"
   ]
  },
  {
   "cell_type": "code",
   "execution_count": 3,
   "id": "40e12e82-eba7-45eb-9388-40300f70d93a",
   "metadata": {},
   "outputs": [
    {
     "name": "stdout",
     "output_type": "stream",
     "text": [
      "Number of tables: 1\n"
     ]
    }
   ],
   "source": [
    "from sqlalchemy import create_engine, inspect\n",
    "engine = create_engine(DATABASE_URL)\n",
    "\n",
    "# Inspect the database to get the table names\n",
    "inspector = inspect(engine)\n",
    "tables = inspector.get_table_names()\n",
    "\n",
    "# Print the number of tables\n",
    "print(f\"Number of tables: {len(tables)}\")"
   ]
  },
  {
   "cell_type": "code",
   "execution_count": 5,
   "id": "351c34db-79b6-48ac-a00b-a0814e6d1c42",
   "metadata": {},
   "outputs": [
    {
     "name": "stdout",
     "output_type": "stream",
     "text": [
      "Tables in the database:\n",
      "charging_stations\n"
     ]
    }
   ],
   "source": [
    "print(\"Tables in the database:\")\n",
    "for table in tables:\n",
    "    print(table)"
   ]
  },
  {
   "cell_type": "code",
   "execution_count": 8,
   "id": "26870783-c732-4720-96b6-9f5778422576",
   "metadata": {},
   "outputs": [
    {
     "name": "stdout",
     "output_type": "stream",
     "text": [
      "Table: charging_stations - Row count: 555088\n"
     ]
    }
   ],
   "source": [
    "from sqlalchemy import create_engine, inspect, text\n",
    "from sqlalchemy.orm import sessionmaker\n",
    "\n",
    "# Create an engine instance (replace DATABASE_URL with your actual database URL)\n",
    "engine = create_engine(DATABASE_URL)\n",
    "\n",
    "# Create a session\n",
    "Session = sessionmaker(bind=engine)\n",
    "session = Session()\n",
    "\n",
    "# Inspect the database to get the table names\n",
    "inspector = inspect(engine)\n",
    "tables = inspector.get_table_names()\n",
    "\n",
    "# Loop through each table and count the rows\n",
    "for table in tables:\n",
    "    # Use SQLAlchemy's text() function to mark the raw SQL query\n",
    "    count_query = text(f\"SELECT COUNT(*) FROM {table}\")\n",
    "    count = session.execute(count_query).scalar()\n",
    "    print(f\"Table: {table} - Row count: {count}\")\n",
    "\n",
    "# Close the session\n",
    "session.close()\n"
   ]
  },
  {
   "cell_type": "code",
   "execution_count": 9,
   "id": "12cb9de5-bf5d-4842-8973-65cd0e45ca16",
   "metadata": {},
   "outputs": [
    {
     "name": "stdout",
     "output_type": "stream",
     "text": [
      "Table: charging_stations - Row count where federal_state is 'Berlin': 22288\n"
     ]
    }
   ],
   "source": [
    "from sqlalchemy import create_engine, inspect, text\n",
    "from sqlalchemy.orm import sessionmaker\n",
    "\n",
    "# Create an engine instance (replace DATABASE_URL with your actual database URL)\n",
    "engine = create_engine(DATABASE_URL)\n",
    "\n",
    "# Create a session\n",
    "Session = sessionmaker(bind=engine)\n",
    "session = Session()\n",
    "\n",
    "# Inspect the database to get the table names\n",
    "inspector = inspect(engine)\n",
    "tables = inspector.get_table_names()\n",
    "\n",
    "# Loop through each table and count the rows where 'federal_state' is Berlin\n",
    "for table in tables:\n",
    "    # Use SQLAlchemy's text() function to mark the raw SQL query\n",
    "    # Make sure the column 'federal_state' or 'Bundesland' exists in your table\n",
    "    count_query = text(f\"SELECT COUNT(*) FROM {table} WHERE federal_state = :state\")\n",
    "    count = session.execute(count_query, {'state': 'Berlin'}).scalar()  # Pass 'Berlin' as the parameter for federal_state\n",
    "    print(f\"Table: {table} - Row count where federal_state is 'Berlin': {count}\")\n",
    "\n",
    "# Close the session\n",
    "session.close()\n"
   ]
  },
  {
   "cell_type": "code",
   "execution_count": null,
   "id": "662d51f0-e71b-4788-ae1d-93e6797d0131",
   "metadata": {},
   "outputs": [],
   "source": []
  }
 ],
 "metadata": {
  "kernelspec": {
   "display_name": "Python 3 (ipykernel)",
   "language": "python",
   "name": "python3"
  },
  "language_info": {
   "codemirror_mode": {
    "name": "ipython",
    "version": 3
   },
   "file_extension": ".py",
   "mimetype": "text/x-python",
   "name": "python",
   "nbconvert_exporter": "python",
   "pygments_lexer": "ipython3",
   "version": "3.12.4"
  }
 },
 "nbformat": 4,
 "nbformat_minor": 5
}
