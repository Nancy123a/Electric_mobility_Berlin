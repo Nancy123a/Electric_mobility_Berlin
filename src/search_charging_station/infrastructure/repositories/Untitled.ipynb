{
 "cells": [
  {
   "cell_type": "code",
   "execution_count": 3,
   "id": "6c254005-e593-46d2-8ce5-38fe599d91f3",
   "metadata": {},
   "outputs": [
    {
     "name": "stdout",
     "output_type": "stream",
     "text": [
      "sqlite:///../tables/berlincharginghub.db\n",
      "Table: charging_stations - Row count where federal_state is 'Berlin': 22288\n"
     ]
    }
   ],
   "source": [
    "import os\n",
    "project_dir = os.path.abspath(os.path.join(os.getcwd(), 'tables'))\n",
    "DATABASE_URL = \"sqlite:///../tables/berlincharginghub.db\"\n",
    "print(DATABASE_URL)\n",
    "\n",
    "from sqlalchemy import create_engine, inspect, text\n",
    "from sqlalchemy.orm import sessionmaker\n",
    "\n",
    "# Create an engine instance (replace DATABASE_URL with your actual database URL)\n",
    "engine = create_engine(DATABASE_URL)\n",
    "\n",
    "# Create a session\n",
    "Session = sessionmaker(bind=engine)\n",
    "session = Session()\n",
    "\n",
    "# Inspect the database to get the table names\n",
    "inspector = inspect(engine)\n",
    "tables = inspector.get_table_names()\n",
    "\n",
    "# Loop through each table and count the rows where 'federal_state' is Berlin\n",
    "for table in tables:\n",
    "    # Use SQLAlchemy's text() function to mark the raw SQL query\n",
    "    # Make sure the column 'federal_state' or 'Bundesland' exists in your table\n",
    "    count_query = text(f\"SELECT COUNT(*) FROM {table} WHERE federal_state = :state\")\n",
    "    count = session.execute(count_query, {'state': 'Berlin'}).scalar()  # Pass 'Berlin' as the parameter for federal_state\n",
    "    print(f\"Table: {table} - Row count where federal_state is 'Berlin': {count}\")\n",
    "\n",
    "# Close the session\n",
    "session.close()\n"
   ]
  },
  {
   "cell_type": "code",
   "execution_count": null,
   "id": "9639e0ad-e28d-4cc3-9049-2bd869ac74ba",
   "metadata": {},
   "outputs": [],
   "source": []
  }
 ],
 "metadata": {
  "kernelspec": {
   "display_name": "Python 3 (ipykernel)",
   "language": "python",
   "name": "python3"
  },
  "language_info": {
   "codemirror_mode": {
    "name": "ipython",
    "version": 3
   },
   "file_extension": ".py",
   "mimetype": "text/x-python",
   "name": "python",
   "nbconvert_exporter": "python",
   "pygments_lexer": "ipython3",
   "version": "3.12.4"
  }
 },
 "nbformat": 4,
 "nbformat_minor": 5
}
