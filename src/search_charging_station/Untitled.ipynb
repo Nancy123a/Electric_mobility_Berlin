{
 "cells": [
  {
   "cell_type": "code",
   "execution_count": 1,
   "id": "efb7c750-d6f8-4dad-9e73-0b51a95c8bbf",
   "metadata": {},
   "outputs": [
    {
     "ename": "ModuleNotFoundError",
     "evalue": "No module named 'search_charging_station'",
     "output_type": "error",
     "traceback": [
      "\u001b[0;31m---------------------------------------------------------------------------\u001b[0m",
      "\u001b[0;31mModuleNotFoundError\u001b[0m                       Traceback (most recent call last)",
      "Cell \u001b[0;32mIn[1], line 8\u001b[0m\n\u001b[1;32m      5\u001b[0m sys\u001b[38;5;241m.\u001b[39mpath\u001b[38;5;241m.\u001b[39mappend(os\u001b[38;5;241m.\u001b[39mpath\u001b[38;5;241m.\u001b[39mabspath(os\u001b[38;5;241m.\u001b[39mpath\u001b[38;5;241m.\u001b[39mjoin(os\u001b[38;5;241m.\u001b[39mgetcwd(), \u001b[38;5;124m'\u001b[39m\u001b[38;5;124msrc\u001b[39m\u001b[38;5;124m'\u001b[39m)))\n\u001b[1;32m      7\u001b[0m \u001b[38;5;28;01mfrom\u001b[39;00m \u001b[38;5;21;01minfrastructure\u001b[39;00m\u001b[38;5;21;01m.\u001b[39;00m\u001b[38;5;21;01mdatabase\u001b[39;00m \u001b[38;5;28;01mimport\u001b[39;00m SessionLocal\n\u001b[0;32m----> 8\u001b[0m \u001b[38;5;28;01mfrom\u001b[39;00m \u001b[38;5;21;01minfrastructure\u001b[39;00m\u001b[38;5;21;01m.\u001b[39;00m\u001b[38;5;21;01mrepositories\u001b[39;00m\u001b[38;5;21;01m.\u001b[39;00m\u001b[38;5;21;01mcharging_station_repository\u001b[39;00m \u001b[38;5;28;01mimport\u001b[39;00m ChargingStationRepository\n",
      "File \u001b[0;32m~/Desktop/BHT/software_engineering/berlingeoheatmap_project1/src/search_charging_station/infrastructure/repositories/charging_station_repository.py:4\u001b[0m\n\u001b[1;32m      2\u001b[0m \u001b[38;5;28;01mfrom\u001b[39;00m \u001b[38;5;21;01mtyping\u001b[39;00m \u001b[38;5;28;01mimport\u001b[39;00m List\n\u001b[1;32m      3\u001b[0m \u001b[38;5;66;03m#from src.search_charging_station.domain.charging_stations.value_objects.postal_code import PostalCode\u001b[39;00m\n\u001b[0;32m----> 4\u001b[0m \u001b[38;5;28;01mfrom\u001b[39;00m \u001b[38;5;21;01msearch_charging_station\u001b[39;00m\u001b[38;5;21;01m.\u001b[39;00m\u001b[38;5;21;01mdomain\u001b[39;00m\u001b[38;5;21;01m.\u001b[39;00m\u001b[38;5;21;01mvalue_objects\u001b[39;00m\u001b[38;5;21;01m.\u001b[39;00m\u001b[38;5;21;01mpostal_code\u001b[39;00m \u001b[38;5;28;01mimport\u001b[39;00m PostalCode\n\u001b[1;32m      5\u001b[0m \u001b[38;5;28;01mfrom\u001b[39;00m \u001b[38;5;21;01msearch_charging_station\u001b[39;00m\u001b[38;5;21;01m.\u001b[39;00m\u001b[38;5;21;01minfrastructure\u001b[39;00m\u001b[38;5;21;01m.\u001b[39;00m\u001b[38;5;21;01mcharging_station_table\u001b[39;00m \u001b[38;5;28;01mimport\u001b[39;00m ChargingStationModel\n\u001b[1;32m      6\u001b[0m \u001b[38;5;28;01mfrom\u001b[39;00m \u001b[38;5;21;01msearch_charging_station\u001b[39;00m\u001b[38;5;21;01m.\u001b[39;00m\u001b[38;5;21;01minfrastructure\u001b[39;00m\u001b[38;5;21;01m.\u001b[39;00m\u001b[38;5;21;01mrepositories\u001b[39;00m\u001b[38;5;21;01m.\u001b[39;00m\u001b[38;5;21;01mcharging_station_interface\u001b[39;00m \u001b[38;5;28;01mimport\u001b[39;00m IChargingStationRepository\n",
      "\u001b[0;31mModuleNotFoundError\u001b[0m: No module named 'search_charging_station'"
     ]
    }
   ],
   "source": [
    "import sys\n",
    "import os\n",
    "\n",
    "# Add the 'src' directory to the Python path\n",
    "sys.path.append(os.path.abspath(os.path.join(os.getcwd(), 'src')))\n",
    "\n",
    "from infrastructure.database import SessionLocal\n",
    "from infrastructure.repositories.charging_station_repository import ChargingStationRepository\n",
    "#from domain.services.charging_station_service import ChargingStationService"
   ]
  },
  {
   "cell_type": "code",
   "execution_count": 3,
   "id": "9c088014-d936-4827-987e-8d647d5e14d0",
   "metadata": {},
   "outputs": [
    {
     "name": "stdout",
     "output_type": "stream",
     "text": [
      "sqlite:///infrastructure/tables/berlincharginghub.db\n",
      "Table: charging_stations - Row count where federal_state is 'Berlin': 22288\n"
     ]
    }
   ],
   "source": [
    "import os\n",
    "project_dir = os.path.abspath(os.path.join(os.getcwd(), 'tables'))\n",
    "DATABASE_URL = \"sqlite:///infrastructure/tables/berlincharginghub.db\"\n",
    "print(DATABASE_URL)\n",
    "\n",
    "from sqlalchemy import create_engine, inspect, text\n",
    "from sqlalchemy.orm import sessionmaker\n",
    "\n",
    "# Create an engine instance (replace DATABASE_URL with your actual database URL)\n",
    "engine = create_engine(DATABASE_URL)\n",
    "\n",
    "# Create a session\n",
    "Session = sessionmaker(bind=engine)\n",
    "session = Session()\n",
    "\n",
    "# Inspect the database to get the table names\n",
    "inspector = inspect(engine)\n",
    "tables = inspector.get_table_names()\n",
    "\n",
    "# Loop through each table and count the rows where 'federal_state' is Berlin\n",
    "for table in tables:\n",
    "    # Use SQLAlchemy's text() function to mark the raw SQL query\n",
    "    # Make sure the column 'federal_state' or 'Bundesland' exists in your table\n",
    "    count_query = text(f\"SELECT COUNT(*) FROM {table} WHERE federal_state = :state\")\n",
    "    count = session.execute(count_query, {'state': 'Berlin'}).scalar()  # Pass 'Berlin' as the parameter for federal_state\n",
    "    print(f\"Table: {table} - Row count where federal_state is 'Berlin': {count}\")\n",
    "\n",
    "# Close the session\n",
    "session.close()\n"
   ]
  },
  {
   "cell_type": "code",
   "execution_count": null,
   "id": "ea13e6ec-8b5f-4836-a763-521e8a3ebeb5",
   "metadata": {},
   "outputs": [],
   "source": []
  }
 ],
 "metadata": {
  "kernelspec": {
   "display_name": "Python 3 (ipykernel)",
   "language": "python",
   "name": "python3"
  },
  "language_info": {
   "codemirror_mode": {
    "name": "ipython",
    "version": 3
   },
   "file_extension": ".py",
   "mimetype": "text/x-python",
   "name": "python",
   "nbconvert_exporter": "python",
   "pygments_lexer": "ipython3",
   "version": "3.12.4"
  }
 },
 "nbformat": 4,
 "nbformat_minor": 5
}
